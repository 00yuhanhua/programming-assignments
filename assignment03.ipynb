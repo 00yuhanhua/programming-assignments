{
 "cells": [
  {
   "cell_type": "markdown",
   "metadata": {},
   "source": [
    "# EEN060 - Applied object-oriented programming\n",
    "\n",
    "Teacher: [Carlos Natalino](https://www.chalmers.se/en/staff/Pages/Carlos-Natalino-Da-Silva.aspx) / Examiner: [Paolo Monti](https://www.chalmers.se/en/staff/Pages/Paolo-Monti.aspx)\n",
    "\n",
    "[Canvas course page](https://chalmers.instructure.com/courses/17328)\n",
    "\n",
    "[Course channel on Chalmers Play](https://play.chalmers.se/channel/EEN060_EEN065_Applied_object-oriented_programming/300149)\n",
    "\n",
    "Before you turn this assignment list in, make sure everything runs as expected.\n",
    "First, **restart the kernel** and then **run all cells**.\n",
    "Then, check if all the tests run correctly.\n",
    "Note that if one of the problems present an error, the following ones **will not** be tested.\n",
    "\n",
    "In case of discrepancies between the problem command and the tests, you should solve it having in mind the tests.\n",
    "\n",
    "There are two types of cell:\n",
    "1. *solution cells:* These are the cells where you write your answer, or modify the existing code to solve the problem.\n",
    "2. *test cells:* These cells are used to test whether your solution is correct or not. If the tests run correctly, you should see a message `tests passed`. Otherwise, you should see an error message.\n",
    "\n",
    "**Delete** the line `raise NotImplementedError()` from the problems that you solve.\n",
    "\n",
    "**Do not delete or add any cell in this file.** All cells that you need are already in place.\n",
    "\n",
    "You may also have problems that will be manually graded (e.g., HTML/CSS/JS/pseudocode problems).\n",
    "These problems **do not** have a respective *test cell*.\n",
    "\n",
    "If you want to execute a cell, select the cell and press **CTRL+Enter** (in Windows) or **CMD+Enter** (in macOS) or click on the **Run cell** button.\n",
    "\n",
    "**If you want, you can solve this programming assignment using Google Colab**\n",
    "\n",
    "Link: https://colab.research.google.com/\n",
    "\n",
    "Just copy the following line to a code line and run it."
   ]
  },
  {
   "cell_type": "markdown",
   "metadata": {},
   "source": [
    "---\n",
    "\n",
    "Make sure you fill your name and collaborators (if any) below."
   ]
  },
  {
   "cell_type": "code",
   "execution_count": null,
   "metadata": {},
   "outputs": [],
   "source": [
    "NAME = \"Yu-Han Hua\"\n",
    "COLLABORATORS = \"\""
   ]
  },
  {
   "cell_type": "markdown",
   "metadata": {},
   "source": [
    "---"
   ]
  },
  {
   "cell_type": "markdown",
   "metadata": {
    "deletable": false,
    "editable": false,
    "nbgrader": {
     "cell_type": "markdown",
     "checksum": "761b6507640b05ce41e77e3281fdf6e7",
     "grade": false,
     "grade_id": "cell-title-assignment",
     "locked": true,
     "schema_version": 3,
     "solution": false,
     "task": false
    }
   },
   "source": [
    "# Assignment 3\n",
    "\n",
    "In this assignment, students should practice:\n",
    " - how to use built-in functionalities\n",
    " - how to use standard Python modules\n",
    " - how to find and use external Python modules\n",
    " - how to define classes\n",
    " - how to instantiate and intialize objects\n",
    " - how to define attributes\n",
    " - how to define methods\n",
    " - how to use inheritance\n",
    " - how to use composition\n",
    " - how to use dataclasses\n",
    " - how to set HTML styles property\n",
    "\n",
    " **Observations:**\n",
    " For the problems in this assignment, you should:\n",
    " - use the command `import`, if needed, within the solution cell, every time you need to use some module.\n",
    "\n",
    " Reading material:\n",
    " - lecture notes\n",
    " - Online documentation:\n",
    "   - Python online documentation: https://docs.python.org/3.7/tutorial/modules.html\n",
    "   - Specific modules (for optional reading):\n",
    "     - datetime: https://docs.python.org/3.7/library/datetime.html\n",
    "     - math: https://docs.python.org/3.7/library/math.html\n",
    "     - random: https://docs.python.org/3.7/library/random.html\n",
    "     - statistics: https://docs.python.org/3.7/library/statistics.html\n",
    "\n",
    "**Preparation:** Run the cell below every time you start working on this file, and every time you restart the kernel."
   ]
  },
  {
   "cell_type": "code",
   "execution_count": null,
   "metadata": {
    "deletable": false,
    "editable": false,
    "nbgrader": {
     "cell_type": "code",
     "checksum": "0eeafff51200c0963156bc39a5957c83",
     "grade": false,
     "grade_id": "activate-autoreload",
     "locked": true,
     "schema_version": 3,
     "solution": false,
     "task": false
    }
   },
   "outputs": [],
   "source": [
    "%load_ext autoreload\n",
    "try:\n",
    "    from utils import validate_python_code, validate_html\n",
    "except:\n",
    "    import sys\n",
    "    print(\"It seems this file is in the wrong folder. \"\n",
    "          \"Make sure to place it in the `programming-assignments` folder/project.\",\n",
    "          file=sys.stderr)"
   ]
  },
  {
   "cell_type": "markdown",
   "metadata": {
    "deletable": false,
    "editable": false,
    "nbgrader": {
     "cell_type": "markdown",
     "checksum": "4cf1e33f9b8c01e4b39162748a4c4a0f",
     "grade": false,
     "grade_id": "cell-title-level-1",
     "locked": true,
     "schema_version": 3,
     "solution": false,
     "task": false
    }
   },
   "source": [
    "## Level 1\n",
    "\n",
    "Level 1 problems are simple problems that required only the knowledge obtained in the content of the lecture and the lecture notes of the particular lecture."
   ]
  },
  {
   "cell_type": "markdown",
   "metadata": {
    "deletable": false,
    "editable": false,
    "nbgrader": {
     "cell_type": "markdown",
     "checksum": "a7d99185865f61afa10ecfca46a65bf7",
     "grade": false,
     "grade_id": "cell-problem-1-1",
     "locked": true,
     "schema_version": 3,
     "solution": false,
     "task": false
    }
   },
   "source": [
    "### Problem 1.1\n",
    "\n",
    "Create a Python function called `degree_cosine` that receives one parameter that represents the angle in degrees, and returns the cosine value.\n",
    "\n",
    "You must use the module `math` to solve this problem."
   ]
  },
  {
   "cell_type": "markdown",
   "metadata": {
    "deletable": false,
    "editable": false,
    "nbgrader": {
     "cell_type": "markdown",
     "checksum": "61a3eac9b622d8f1741871a6b872c85e",
     "grade": false,
     "grade_id": "cell-pseudocode-1-1",
     "locked": true,
     "schema_version": 3,
     "solution": false,
     "task": false
    }
   },
   "source": [
    "```\n",
    "# write here your pseudocode (not graded)\n",
    "\n",
    "# * pseudocode is necessary when asking for help during the lab\n",
    "```"
   ]
  },
  {
   "cell_type": "code",
   "execution_count": null,
   "metadata": {
    "deletable": false,
    "nbgrader": {
     "cell_type": "code",
     "checksum": "b84df8176f2b1babdc24f7a218a71d7a",
     "grade": false,
     "grade_id": "cell-answer-1-1",
     "locked": false,
     "schema_version": 3,
     "solution": true,
     "task": false
    }
   },
   "outputs": [],
   "source": [
    "# %%writefile degree_cosine_solution.py\n",
    "# import math as s\n",
    "\n",
    "\n",
    "# def degree_cosine(angle: float) -> float:\n",
    "\n",
    "#     rads = s.radians (angle)\n",
    "\n",
    "#     cosine_value = s.cos(rads)\n",
    "    \n",
    "#     return(cosine_value)\n",
    "\n",
    "# degree_cosine(45)\n",
    "\n",
    "\n"
   ]
  },
  {
   "cell_type": "code",
   "execution_count": null,
   "metadata": {},
   "outputs": [],
   "source": [
    "%%writefile degree_cosine_solution.py\n",
    "import math as s\n",
    "\n",
    "\n",
    "def degree_cosine(angle: float) -> float:\n",
    "    rads = s.radians(angle)\n",
    "    cosine_value = s.cos(rads)\n",
    "    return cosine_value"
   ]
  },
  {
   "cell_type": "code",
   "execution_count": null,
   "metadata": {
    "deletable": false,
    "editable": false,
    "nbgrader": {
     "cell_type": "code",
     "checksum": "d6471cb8d7a929de39e54f3304d51b46",
     "grade": false,
     "grade_id": "cell-debug-1-1",
     "locked": true,
     "schema_version": 3,
     "solution": false,
     "task": false
    }
   },
   "outputs": [],
   "source": [
    "%autoreload 2\n",
    "# uncomment the line(s) below to debug\n",
    "from degree_cosine_solution import degree_cosine\n",
    "\n",
    "degree = 100\n",
    "cosine = degree_cosine(degree)\n",
    "print(f'The cosine for {degree} degrees is {cosine}')\n",
    "print('Execution finished', u'\\u2713')"
   ]
  },
  {
   "cell_type": "code",
   "execution_count": null,
   "metadata": {
    "deletable": false,
    "editable": false,
    "nbgrader": {
     "cell_type": "code",
     "checksum": "46467d280e76d24544604068e45303de",
     "grade": true,
     "grade_id": "cell-tests-1-1",
     "locked": true,
     "points": 1,
     "schema_version": 3,
     "solution": false,
     "task": false
    }
   },
   "outputs": [],
   "source": [
    "%autoreload 2\n",
    "# test cell\n",
    "try:\n",
    "    import degree_cosine_solution\n",
    "except:\n",
    "    raise ValueError(\"You did not execute your solution cell!\")\n",
    "try:\n",
    "    from degree_cosine_solution import degree_cosine\n",
    "except:\n",
    "    raise ValueError(\"The module does not have the necessary function!\")\n",
    "with open(\"degree_cosine_solution.py\", \"rt\", encoding=\"UTF-8\") as file:\n",
    "    content = file.read()\n",
    "    assert \"import math\" in content, \"You must import the `math` module.\"\n",
    "from nose.tools import assert_equal, assert_almost_equal\n",
    "assert_equal(degree_cosine(0), 1)\n",
    "assert_almost_equal(degree_cosine(180), -1.0)\n",
    "assert_almost_equal(degree_cosine(232), -0.6156614753256582)\n",
    "from utils import validate_python_code\n",
    "validate_python_code(\"degree_cosine_solution.py\")\n",
    "print('tests passed', u'\\u2713')"
   ]
  },
  {
   "cell_type": "markdown",
   "metadata": {
    "deletable": false,
    "editable": false,
    "nbgrader": {
     "cell_type": "markdown",
     "checksum": "19a10199756fc596e86ca62133122a51",
     "grade": false,
     "grade_id": "cell-problem-1-2",
     "locked": true,
     "schema_version": 3,
     "solution": false,
     "task": false
    }
   },
   "source": [
    "### Problem 1.2\n",
    "\n",
    "Create a Python function called `mean_stdev_var` that receives a list of numbers as parameter.\n",
    "The function should return the mean, standard deviation and the variance, computed using the module `statistics`."
   ]
  },
  {
   "cell_type": "markdown",
   "metadata": {
    "deletable": false,
    "editable": false,
    "nbgrader": {
     "cell_type": "markdown",
     "checksum": "05a83f472afe9fe69550e66d23b5f87f",
     "grade": false,
     "grade_id": "cell-pseudocode-1-2",
     "locked": true,
     "schema_version": 3,
     "solution": false,
     "task": false
    }
   },
   "source": [
    "```\n",
    "# write here your pseudocode (not graded)\n",
    "\n",
    "# * pseudocode is necessary when asking for help during the lab\n",
    "```"
   ]
  },
  {
   "cell_type": "code",
   "execution_count": null,
   "metadata": {},
   "outputs": [],
   "source": [
    "%%writefile mean_stdev_var_solution.py\n",
    "import statistics as s\n",
    "\n",
    "def mean_stdev_var_solution(list_of_numbers: list[str]) -> float:\n",
    "\n",
    "    mean = s.mean(list_of_numbers)\n",
    "    standard = s.stdev(list_of_numbers)\n",
    "    variance = s.variance(list_of_numbers)\n",
    "    \n",
    "    return mean, standard, variance\n",
    "\n"
   ]
  },
  {
   "cell_type": "code",
   "execution_count": null,
   "metadata": {
    "deletable": false,
    "editable": false,
    "nbgrader": {
     "cell_type": "code",
     "checksum": "ae80125349d86bcfca878035d0d62af1",
     "grade": false,
     "grade_id": "cell-debug-1-2",
     "locked": true,
     "schema_version": 3,
     "solution": false,
     "task": false
    }
   },
   "outputs": [],
   "source": [
    "%autoreload 2\n",
    "#uncomment the line(s) below to debug\n",
    "from mean_stdev_var_solution import mean_stdev_var\n",
    "\n",
    "numbers = [30.363535357282277, 90.42641156890944, 35.88893670584669, 42.35277419651142, 23.343145012254173, 21.336637050463093, 90.55195368974573, 39.636659242884996, 60.46048988550831, 62.13510520797335]\n",
    "print(f'Numbers: {numbers}')\n",
    "stats = mean_stdev_var(numbers)\n",
    "print(f'Mean: {stats[0]}')\n",
    "print(f'Standard deviation: {stats[1]}')\n",
    "print(f'Variance: {stats[2]}')\n",
    "print('Execution finished', u'\\u2713')"
   ]
  },
  {
   "cell_type": "code",
   "execution_count": null,
   "metadata": {
    "deletable": false,
    "editable": false,
    "nbgrader": {
     "cell_type": "code",
     "checksum": "78a128f4d1402d888b5e2983e9a99cb5",
     "grade": true,
     "grade_id": "cell-test-1-2",
     "locked": true,
     "points": 1,
     "schema_version": 3,
     "solution": false,
     "task": false
    }
   },
   "outputs": [],
   "source": [
    "%autoreload 2\n",
    "# test cell\n",
    "try:\n",
    "    import mean_stdev_var_solution\n",
    "except:\n",
    "    raise ValueError(\"You did not execute your solution cell!\")\n",
    "try:\n",
    "    from mean_stdev_var_solution import mean_stdev_var\n",
    "except:\n",
    "    raise ValueError(\"The module does not have the necessary function!\")\n",
    "with open(\"mean_stdev_var_solution.py\", \"rt\", encoding=\"UTF-8\") as file:\n",
    "    content = file.read()\n",
    "    assert \"import statistics\" in content, \"You must import the `statistics` module.\"\n",
    "from nose.tools import assert_equal\n",
    "assert len(mean_stdev_var([15.888513602891996, 48.076345585896455, 53.99263004262558, 4.3020754809705135, 93.3166374758885])) == 3, 'The return of the function must be a sequence with 3 elements.'\n",
    "assert_equal(mean_stdev_var([15.888513602891996, 48.076345585896455, 53.99263004262558, 4.3020754809705135, 93.3166374758885]),\n",
    "            (43.115240437654606, 35.038788726175284, 1227.7167153975483))\n",
    "assert_equal(mean_stdev_var([2.5852904919683173, 69.74922108279277, 39.12274849382771, 35.397001409275205, 99.21459870342308]),\n",
    "            (49.21377203625742, 36.704000234175474, 1347.1836331903532))\n",
    "from unittest.mock import patch\n",
    "with patch('statistics.stdev') as mock_stdev:\n",
    "    mean_stdev_var([2.5852904919683173, 69.74922108279277])\n",
    "mock_stdev.assert_called_once()\n",
    "from utils import validate_python_code\n",
    "validate_python_code(\"mean_stdev_var_solution.py\")\n",
    "print('tests passed', u'\\u2713')"
   ]
  },
  {
   "cell_type": "markdown",
   "metadata": {
    "deletable": false,
    "editable": false,
    "nbgrader": {
     "cell_type": "markdown",
     "checksum": "058dce66f59d5de4eb496ed97d6ddcac",
     "grade": false,
     "grade_id": "cell-problem-1-3",
     "locked": true,
     "schema_version": 3,
     "solution": false,
     "task": false
    }
   },
   "source": [
    "### Problem 1.3\n",
    "\n",
    "Create a Python function called `random_time_generator` that randomly generates a time between 08:00:00 and 19:59:59.\n",
    "The function should return a `time` object.\n",
    "For the sake of simplicity, the function should consider only hour, minute and second.\n",
    "\n",
    "You must use modules `random` and `datetime` in your answer."
   ]
  },
  {
   "cell_type": "markdown",
   "metadata": {
    "deletable": false,
    "editable": false,
    "nbgrader": {
     "cell_type": "markdown",
     "checksum": "020b1ec9d8367c96ab636981d543f595",
     "grade": false,
     "grade_id": "cell-pseudocode-1-3",
     "locked": true,
     "schema_version": 3,
     "solution": false,
     "task": false
    }
   },
   "source": [
    "```\n",
    "# write here your pseudocode (not graded)\n",
    "\n",
    "# * pseudocode is necessary when asking for help during the lab\n",
    "```"
   ]
  },
  {
   "cell_type": "code",
   "execution_count": null,
   "metadata": {},
   "outputs": [],
   "source": [
    "# %%writefile random_time_generator_solution.py\n",
    "# import datetime as dt\n",
    "# import random as r\n",
    "\n",
    "\n",
    "# def random_time_generator() -> dt.time:\n",
    "#     hour: int = r.randint(8, 19)\n",
    "#     minu: int = r.randint(0, 59)\n",
    "#     sec: int = r.randint(0, 59)\n",
    "#     time: dt.time = dt.time(hour, minu, sec)\n",
    "#     return time"
   ]
  },
  {
   "cell_type": "code",
   "execution_count": 76,
   "metadata": {
    "deletable": false,
    "nbgrader": {
     "cell_type": "code",
     "checksum": "122b6bfb349e67df533e730f1f3f5a96",
     "grade": false,
     "grade_id": "cell-answer-1-3",
     "locked": false,
     "schema_version": 3,
     "solution": true,
     "task": false
    }
   },
   "outputs": [
    {
     "name": "stdout",
     "output_type": "stream",
     "text": [
      "17:37:59\n"
     ]
    }
   ],
   "source": [
    "#%%writefile random_time_generator_solution.py\n",
    "\n",
    "import random as r\n",
    "import datetime\n",
    "\n",
    "\n",
    "def random_time_generator() -> datetime.time:  \n",
    "\n",
    "    random_range = r.randrange((8*60*60), ((19*60*60)+(59*60)+(59)))\n",
    "\n",
    "    time = datetime.datetime.fromtimestamp(random_range).time()\n",
    "    \n",
    "    return(time)\n",
    "\n",
    "print(random_time_generator())"
   ]
  },
  {
   "cell_type": "code",
   "execution_count": 77,
   "metadata": {
    "deletable": false,
    "editable": false,
    "nbgrader": {
     "cell_type": "code",
     "checksum": "a1b6fab5122988220b795d10dc29f72c",
     "grade": false,
     "grade_id": "cell-debug-1-3",
     "locked": true,
     "schema_version": 3,
     "solution": false,
     "task": false
    }
   },
   "outputs": [
    {
     "name": "stdout",
     "output_type": "stream",
     "text": [
      "Here are some random times:\n",
      "15:53:38\n",
      "13:48:16\n",
      "19:32:00\n",
      "18:13:23\n",
      "10:53:47\n",
      "Execution finished ✓\n"
     ]
    }
   ],
   "source": [
    "%autoreload 2\n",
    "# uncomment the line(s) below to debug\n",
    "from random_time_generator_solution import random_time_generator\n",
    "\n",
    "print('Here are some random times:')\n",
    "for i in range(5):\n",
    "    print(random_time_generator())\n",
    "print('Execution finished', u'\\u2713')"
   ]
  },
  {
   "cell_type": "code",
   "execution_count": 78,
   "metadata": {
    "deletable": false,
    "editable": false,
    "nbgrader": {
     "cell_type": "code",
     "checksum": "3f91828d236e203faaf45242e567d20a",
     "grade": true,
     "grade_id": "cell-test-1-3",
     "locked": true,
     "points": 1,
     "schema_version": 3,
     "solution": false,
     "task": false
    }
   },
   "outputs": [
    {
     "data": {
      "text/html": [
       "<div class=\"tip admonition\">\n",
       "<p class=\"admonition-title\">Code Quality Analysis: <span style=\"color: green\">Pass</span></p><p>*No problem was found*\n",
       "</p>\n",
       "    </div>"
      ],
      "text/plain": [
       "<IPython.core.display.HTML object>"
      ]
     },
     "metadata": {},
     "output_type": "display_data"
    },
    {
     "name": "stdout",
     "output_type": "stream",
     "text": [
      "tests passed ✓\n"
     ]
    }
   ],
   "source": [
    "%autoreload 2\n",
    "# test cell\n",
    "try:\n",
    "    import random_time_generator_solution\n",
    "except:\n",
    "    raise ValueError(\"You did not execute your solution cell!\")\n",
    "try:\n",
    "    from random_time_generator_solution import random_time_generator\n",
    "except:\n",
    "    raise ValueError(\"The module does not have the necessary function!\")\n",
    "with open(\"random_time_generator_solution.py\", \"rt\", encoding=\"UTF-8\") as file:\n",
    "    content = file.read()\n",
    "    assert \"import datetime\" in content, \"You must import the `datetime` module.\"\n",
    "    assert \"import random\" in content, \"You must import the `random` module.\"\n",
    "\n",
    "import datetime\n",
    "from nose.tools import assert_equal, assert_almost_equal\n",
    "assert isinstance(random_time_generator(), datetime.time), 'The return of the function is not a datetime.time object.'\n",
    "# testing the probability\n",
    "import collections\n",
    "count_hour = collections.defaultdict(int)\n",
    "count_minute = collections.defaultdict(int)\n",
    "count_second = collections.defaultdict(int)\n",
    "number_samples = 100000\n",
    "for i in range(100000):\n",
    "    d = random_time_generator()\n",
    "    count_hour[d.hour] += 1\n",
    "    count_minute[d.minute] += 1\n",
    "    count_second[d.second] += 1\n",
    "for year, count in count_hour.items():\n",
    "    assert_almost_equal(count / number_samples, 1/(19 - 7), places=2)\n",
    "for month, count in count_minute.items():\n",
    "    assert_almost_equal(count / number_samples, 1/59, places=2)\n",
    "for day, count in count_second.items():\n",
    "    assert_almost_equal(count / number_samples, 1/59, places=2)\n",
    "from utils import validate_python_code\n",
    "validate_python_code(\"random_time_generator_solution.py\")\n",
    "print('tests passed', u'\\u2713')"
   ]
  },
  {
   "cell_type": "markdown",
   "metadata": {
    "deletable": false,
    "editable": false,
    "nbgrader": {
     "cell_type": "markdown",
     "checksum": "7f09953a53b0f777bc3f71e054b5390e",
     "grade": false,
     "grade_id": "problem-1-5",
     "locked": true,
     "schema_version": 3,
     "solution": false,
     "task": false
    }
   },
   "source": [
    "### Problem 1.4\n",
    "\n",
    "Create a Python class with the name `AreaCalculator`.\n",
    "During initialization with the `.__init__()` method, the method should receive a number and assign the value passed to the attribute `radius`.\n",
    "\n",
    "Then, create a method named `area()` that returns the area of the circle using the `radius` attribute.\n",
    "If the `radius` attribute is `None` or $\\leq 0$ the method `area()` should return `None`.\n",
    "\n",
    "**Remember:** from the `math` module, import `pi`."
   ]
  },
  {
   "cell_type": "markdown",
   "metadata": {
    "deletable": false,
    "editable": false,
    "nbgrader": {
     "cell_type": "markdown",
     "checksum": "51f7e3a2099a0ab294fbb7aa393adffb",
     "grade": false,
     "grade_id": "pseudocode-1-5",
     "locked": true,
     "schema_version": 3,
     "solution": false,
     "task": false
    }
   },
   "source": [
    "```\n",
    "# write here your pseudocode (not graded)\n",
    "\n",
    "# * pseudocode is necessary when asking for help during the lab\n",
    "```"
   ]
  },
  {
   "cell_type": "code",
   "execution_count": null,
   "metadata": {},
   "outputs": [],
   "source": [
    "# %%writefile area_calculator_class.py\n",
    "\n",
    "\n",
    "# from math import pi\n",
    "# from typing import Optional\n",
    "\n",
    "# # om radius är none eller mindre eller lika med 0 returna noll\n",
    "# class AreaCalculator:\n",
    "#     def __init__(self, radius:int):\n",
    "#         self.radius=radius\n",
    "\n",
    "#     def area(self) -> Optional[float]:\n",
    "#         if (self.radius is not None) and (self.radius > 0):\n",
    "#             A: float = (self.radius**2)*pi\n",
    "#             return(A)\n",
    "#         else:\n",
    "#             return None"
   ]
  },
  {
   "cell_type": "code",
   "execution_count": 104,
   "metadata": {
    "deletable": false,
    "nbgrader": {
     "cell_type": "code",
     "checksum": "9238fa9b74d39f6d88b8cfbcdfa178fa",
     "grade": false,
     "grade_id": "answer-1-5",
     "locked": false,
     "schema_version": 3,
     "solution": true,
     "task": false
    },
    "pycharm": {
     "name": "#%%\n"
    }
   },
   "outputs": [
    {
     "name": "stdout",
     "output_type": "stream",
     "text": [
      "Overwriting area_calculator_class.py\n"
     ]
    }
   ],
   "source": [
    "%%writefile area_calculator_class.py\n",
    "# solution cell\n",
    "\n",
    "from math import pi\n",
    "from typing import Optional\n",
    "dddd\n",
    "\n",
    "class AreaCalculator:nn\n",
    "    \n",
    "    \n",
    "    def __init__(self, radius: int):\n",
    "        self.radius = radius\n",
    "    def area(self) -> Optional[float]:\n",
    "        if (self.radius is not None) and (self.radius > 0):\n",
    "            my_area: float = (self.radius ** 2) * pi\n",
    "            return my_area\n",
    "        return None\n"
   ]
  },
  {
   "cell_type": "code",
   "execution_count": 83,
   "metadata": {
    "deletable": false,
    "editable": false,
    "nbgrader": {
     "cell_type": "code",
     "checksum": "578b5bb4131b1f98aedc3c8ccd019bf5",
     "grade": false,
     "grade_id": "debug-1-5",
     "locked": true,
     "schema_version": 3,
     "solution": false,
     "task": false
    }
   },
   "outputs": [
    {
     "name": "stdout",
     "output_type": "stream",
     "text": [
      "The area of a circle with radius 15 is 706.8583470577034\n",
      "Execution finished ✓\n"
     ]
    }
   ],
   "source": [
    "%autoreload 2\n",
    "# uncomment the line(s) below to debug\n",
    "from area_calculator_class import AreaCalculator\n",
    "\n",
    "radius = 15\n",
    "c = AreaCalculator(radius)\n",
    "print(f'The area of a circle with radius {radius} is {c.area()}')\n",
    "print('Execution finished', u'\\u2713')"
   ]
  },
  {
   "cell_type": "code",
   "execution_count": 105,
   "metadata": {
    "deletable": false,
    "editable": false,
    "nbgrader": {
     "cell_type": "code",
     "checksum": "6026b005ebfb011b445b4c62b69e93bf",
     "grade": true,
     "grade_id": "tests-1-5",
     "locked": true,
     "points": 1,
     "schema_version": 3,
     "solution": false,
     "task": false
    },
    "pycharm": {
     "name": "#%%\n"
    }
   },
   "outputs": [
    {
     "data": {
      "text/html": [
       "<div class=\"tip admonition\">\n",
       "<p class=\"admonition-title\">Code Quality Analysis: <span style=\"color: red\">Fail</span></p><p><b>General formatting:</b></p><div class=\"literal-block-wrapper docutils container\">\n",
       "        <div class=\"highlight-python notranslate\">\n",
       "        <div class=\"highlight\">\n",
       "        <pre><span></span><span class=\"linenos\">1</span> from math import pi\n",
       "<span class=\"linenos\">2</span> from typing import Optional\n",
       "<span class=\"linenos\">3</span> \n",
       "<span class=\"linenos\">4</span> \n",
       "<span class=\"linenos\">5</span> class AreaCalculator:\n",
       "<span class=\"hll\"><span class=\"linenos\">6</span>-    \n",
       "</span><span class=\"hll\"><span class=\"linenos\">7</span>-    \n",
       "</span><span class=\"linenos\">8</span>     def __init__(self, radius: int):\n",
       "<span class=\"linenos\">9</span>         self.radius = radius\n",
       "<span class=\"hll\"><span class=\"linenos\">10</span>+\n",
       "</span><span class=\"linenos\">11</span>     def area(self) -> Optional[float]:\n",
       "<span class=\"linenos\">12</span>         if (self.radius is not None) and (self.radius > 0):\n",
       "<span class=\"linenos\">13</span>             my_area: float = (self.radius ** 2) * pi\n",
       "<span class=\"linenos\">14</span>             return my_area\n",
       "<span class=\"linenos\">15</span>         return None\n",
       "</pre>\n",
       "        </div>\n",
       "        </div>\n",
       "        </div><p><p><b>Variable types and use:</b></p><table>\n",
       "<thead>\n",
       "<tr>\n",
       "<th style=\"text-align:right\">Line</th>\n",
       "<th style=\"text-align:left\">Description</th>\n",
       "</tr>\n",
       "</thead>\n",
       "<tbody>\n",
       "<tr>\n",
       "<td style=\"text-align:right\">8</td>\n",
       "<td style=\"text-align:left\"><p>blank line contains whitespace</p><pre>    <br/>^</pre>:<p><pre><code>    </code></pre></p></td>\n",
       "</tr><tr>\n",
       "<td style=\"text-align:right\">8</td>\n",
       "<td style=\"text-align:left\">Trailing whitespace:<p><pre><code>    </code></pre></p></td>\n",
       "</tr><tr>\n",
       "<td style=\"text-align:right\">9</td>\n",
       "<td style=\"text-align:left\"><p>blank line contains whitespace</p><pre>    <br/>^</pre>:<p><pre><code>    </code></pre></p></td>\n",
       "</tr><tr>\n",
       "<td style=\"text-align:right\">9</td>\n",
       "<td style=\"text-align:left\">Trailing whitespace:<p><pre><code>    </code></pre></p></td>\n",
       "</tr><tr>\n",
       "<td style=\"text-align:right\">10</td>\n",
       "<td style=\"text-align:left\"><p>too many blank lines (2)</p><pre>    def __init__(self, radius: int):<br/>    ^</pre>:<p><pre><code>    def __init__(self, radius: int):</code></pre></p></td>\n",
       "</tr><tr>\n",
       "<td style=\"text-align:right\">12</td>\n",
       "<td style=\"text-align:left\"><p>expected 1 blank line, found 0</p><pre>    def area(self) -> Optional[float]:<br/>    ^</pre>:<p><pre><code>    def area(self) -> Optional[float]:</code></pre></p></td>\n",
       "</tr></tbody>\n",
       "</table></p>\n",
       "    </div>"
      ],
      "text/plain": [
       "<IPython.core.display.HTML object>"
      ]
     },
     "metadata": {},
     "output_type": "display_data"
    },
    {
     "ename": "ValueError",
     "evalue": "The code needs change. Check messages above.",
     "output_type": "error",
     "traceback": [
      "\u001b[1;31m---------------------------------------------------------------------------\u001b[0m",
      "\u001b[1;31mValueError\u001b[0m                                Traceback (most recent call last)",
      "\u001b[1;32mc:\\python\\kursnamn\\programming-assignments\\assignment03.ipynb Cell 30'\u001b[0m in \u001b[0;36m<module>\u001b[1;34m\u001b[0m\n\u001b[0;32m     <a href='vscode-notebook-cell:/c%3A/python/kursnamn/programming-assignments/assignment03.ipynb#ch0000028?line=28'>29</a>\u001b[0m assert_almost_equal(c\u001b[39m.\u001b[39marea(), \u001b[39m113.097\u001b[39m, places\u001b[39m=\u001b[39m\u001b[39m2\u001b[39m)\n\u001b[0;32m     <a href='vscode-notebook-cell:/c%3A/python/kursnamn/programming-assignments/assignment03.ipynb#ch0000028?line=29'>30</a>\u001b[0m \u001b[39mfrom\u001b[39;00m \u001b[39mutils\u001b[39;00m \u001b[39mimport\u001b[39;00m validate_python_code\n\u001b[1;32m---> <a href='vscode-notebook-cell:/c%3A/python/kursnamn/programming-assignments/assignment03.ipynb#ch0000028?line=30'>31</a>\u001b[0m validate_python_code(\u001b[39m\"\u001b[39;49m\u001b[39marea_calculator_class.py\u001b[39;49m\u001b[39m\"\u001b[39;49m)\n\u001b[0;32m     <a href='vscode-notebook-cell:/c%3A/python/kursnamn/programming-assignments/assignment03.ipynb#ch0000028?line=31'>32</a>\u001b[0m \u001b[39mprint\u001b[39m(\u001b[39m'\u001b[39m\u001b[39mtests passed\u001b[39m\u001b[39m'\u001b[39m, \u001b[39mu\u001b[39m\u001b[39m'\u001b[39m\u001b[39m\\u2713\u001b[39;00m\u001b[39m'\u001b[39m)\n",
      "File \u001b[1;32mc:\\python\\kursnamn\\programming-assignments\\utils.py:146\u001b[0m, in \u001b[0;36mvalidate_python_code\u001b[1;34m(filename, **args)\u001b[0m\n\u001b[0;32m    <a href='file:///c%3A/python/kursnamn/programming-assignments/utils.py?line=140'>141</a>\u001b[0m     \u001b[39mraise\u001b[39;00m \u001b[39mValueError\u001b[39;00m(\n\u001b[0;32m    <a href='file:///c%3A/python/kursnamn/programming-assignments/utils.py?line=141'>142</a>\u001b[0m         \u001b[39m\"\u001b[39m\u001b[39mIt was not possible to connect with the service. \u001b[39m\u001b[39m\"\u001b[39m\n\u001b[0;32m    <a href='file:///c%3A/python/kursnamn/programming-assignments/utils.py?line=142'>143</a>\u001b[0m         \u001b[39m\"\u001b[39m\u001b[39mCheck if you\u001b[39m\u001b[39m'\u001b[39m\u001b[39mre connected to Chalmers VPN.\u001b[39m\u001b[39m\"\u001b[39m\n\u001b[0;32m    <a href='file:///c%3A/python/kursnamn/programming-assignments/utils.py?line=143'>144</a>\u001b[0m     )\n\u001b[0;32m    <a href='file:///c%3A/python/kursnamn/programming-assignments/utils.py?line=144'>145</a>\u001b[0m \u001b[39mif\u001b[39;00m data[\u001b[39m\"\u001b[39m\u001b[39mfail\u001b[39m\u001b[39m\"\u001b[39m]:\n\u001b[1;32m--> <a href='file:///c%3A/python/kursnamn/programming-assignments/utils.py?line=145'>146</a>\u001b[0m     \u001b[39mraise\u001b[39;00m \u001b[39mValueError\u001b[39;00m(\u001b[39m\"\u001b[39m\u001b[39mThe code needs change. Check messages above.\u001b[39m\u001b[39m\"\u001b[39m)\n",
      "\u001b[1;31mValueError\u001b[0m: The code needs change. Check messages above."
     ]
    }
   ],
   "source": [
    "%autoreload 2\n",
    "# test cell\n",
    "try:\n",
    "    import area_calculator_class\n",
    "except:\n",
    "    raise ValueError(\"You did not execute your solution cell!\")\n",
    "try:\n",
    "    from area_calculator_class import AreaCalculator\n",
    "except:\n",
    "    raise ValueError(\"The module does not have the necessary class!\")\n",
    "with open(\"area_calculator_class.py\", \"rt\", encoding=\"UTF-8\") as file:\n",
    "    content = file.read()\n",
    "    assert \"from math import pi\" in content, \"You must import `pi` from the `math` module.\"\n",
    "from nose.tools import assert_equal, assert_almost_equal\n",
    "import math\n",
    "assert 'AreaCalculator' in dir(), 'Class AreaCalculator does not exist!'\n",
    "assert 'area' in dir(AreaCalculator), 'Method area() does not exist!'\n",
    "c = AreaCalculator(None)\n",
    "assert c.area() == None, 'Method area() should return None for invalid values.'\n",
    "c = AreaCalculator(0)\n",
    "assert c.area() == None, 'Method area() should return None for invalid values.'\n",
    "c = AreaCalculator(-1)\n",
    "assert c.area() == None, 'Method area() should return None for invalid values.'\n",
    "c = AreaCalculator(1)\n",
    "assert isinstance(c.area(), float) or isinstance(c.area(), int), 'The return type of the function area() does not match the problem description.'\n",
    "assert_almost_equal(c.area(), math.pi)\n",
    "c = AreaCalculator(6)\n",
    "assert isinstance(c.area(), float) or isinstance(c.area(), int), 'The return type of the function area() does not match the problem description.'\n",
    "assert_almost_equal(c.area(), 113.097, places=2)\n",
    "from utils import validate_python_code\n",
    "validate_python_code(\"area_calculator_class.py\")\n",
    "print('tests passed', u'\\u2713')"
   ]
  },
  {
   "cell_type": "markdown",
   "metadata": {
    "deletable": false,
    "editable": false,
    "nbgrader": {
     "cell_type": "markdown",
     "checksum": "943d305131e4c7fc7815b9e57d9a2f2b",
     "grade": false,
     "grade_id": "problem-1-6",
     "locked": true,
     "schema_version": 3,
     "solution": false,
     "task": false
    }
   },
   "source": [
    "### Problem 1.5\n",
    "\n",
    "Create a Python class named `Person`.\n",
    "In the initialization method, the parameters are:\n",
    "1. Name (mandatory)\n",
    "2. role (mandatory)\n",
    "3. person number (mandatory)\n",
    "4. address (optional, `None` by default)\n",
    "5. phone number (optional, `None` by default)\n",
    "\n",
    "The initialization method should save these parameters as attributes.\n",
    "\n",
    "The class should also have a `__repr__()` method that returns a string containing only the attributes that are not `None`, separated by `\\t` characters."
   ]
  },
  {
   "cell_type": "markdown",
   "metadata": {
    "deletable": false,
    "editable": false,
    "nbgrader": {
     "cell_type": "markdown",
     "checksum": "b74470b91d3e3df0380ee6c954dd97b3",
     "grade": false,
     "grade_id": "pseudo-1-6",
     "locked": true,
     "schema_version": 3,
     "solution": false,
     "task": false
    }
   },
   "source": [
    "```\n",
    "# write here your pseudocode (not graded)\n",
    "\n",
    "# * pseudocode is necessary when asking for help during the lab\n",
    "```"
   ]
  },
  {
   "cell_type": "code",
   "execution_count": null,
   "metadata": {},
   "outputs": [],
   "source": [
    "# from typing import Optional\n",
    "\n",
    "# class Person:\n",
    "#     def __init__(\n",
    "#         self, \n",
    "#         name:str, \n",
    "#         role:str, \n",
    "#         person_number:int, \n",
    "#         adress: Optional[str], \n",
    "#         phone: Optional[str]\n",
    "#     ):\n",
    "    \n",
    "#         self.name=name\n",
    "#         self.role=role\n",
    "#         self.person_number=person_number\n",
    "#         self.adress=adress\n",
    "#         self.phone=phone\n",
    "\n",
    "#     def __repr__(self) -> str:\n",
    "#         _repr: str= f\"{self.name},t\\{self.role}t\\{self.person_number}\"\n",
    "#         if self.adress is not None:\n",
    "#             _repr += f\"t\\{self.adress}\"\n",
    "#         if self.adress is not None:\n",
    "#             _repr +=\"t\\{self.phone}\"\n",
    "#         return (_repr)\n",
    "    "
   ]
  },
  {
   "cell_type": "code",
   "execution_count": null,
   "metadata": {
    "deletable": false,
    "nbgrader": {
     "cell_type": "code",
     "checksum": "3463c5e64ad35adea0cfa0d852ed36d0",
     "grade": false,
     "grade_id": "answer-1-6",
     "locked": false,
     "schema_version": 3,
     "solution": true,
     "task": false
    },
    "pycharm": {
     "name": "#%%\n"
    }
   },
   "outputs": [],
   "source": [
    "#%%writefile person_class.py\n",
    "# implimentation\n",
    "from typing import Optional\n",
    "\n",
    "\n",
    "class Person:\n",
    "    def __init__(\n",
    "        self, \n",
    "        name: str, \n",
    "        role: str, \n",
    "        person_number: str, \n",
    "        address: Optional[str] = None, \n",
    "        phone: Optional[str] = None,\n",
    "    ):\n",
    "        self.name = name\n",
    "        self.role = role\n",
    "        self.person_number = person_number \n",
    "        self.address = address\n",
    "        self.phone = phone\n",
    "\n",
    "    def __rep__(self) -> str:\n",
    "        _repr: str = f\"{self.name}\\t{self.role}\\t{self.person_number}\"\n",
    "        if self.address is not None:\n",
    "            _repr += f\"\\t{self.address}\"\n",
    "        if self.phone is not None:\n",
    "            _repr += f\"\\t{self.phone}\"\n",
    "        return  _repr        "
   ]
  },
  {
   "cell_type": "code",
   "execution_count": null,
   "metadata": {
    "deletable": false,
    "editable": false,
    "nbgrader": {
     "cell_type": "code",
     "checksum": "f828a4c5330a2e251c6f0abb9687cd71",
     "grade": false,
     "grade_id": "debug-1-6",
     "locked": true,
     "schema_version": 3,
     "solution": false,
     "task": false
    }
   },
   "outputs": [],
   "source": [
    "%autoreload 2\n",
    "# uncomment the line(s) below to debug\n",
    "from person_class import Person\n",
    "person = Person('John Doe', 'Manager', '201414202014')\n",
    "print(f'The Person object converts to string as {person}')\n",
    "print('Execution finished', u'\\u2713')"
   ]
  },
  {
   "cell_type": "code",
   "execution_count": null,
   "metadata": {
    "deletable": false,
    "editable": false,
    "nbgrader": {
     "cell_type": "code",
     "checksum": "98e4de2b827fc2f17ea1b0294ed161a3",
     "grade": true,
     "grade_id": "tests-1-6",
     "locked": true,
     "points": 1,
     "schema_version": 3,
     "solution": false,
     "task": false
    },
    "pycharm": {
     "name": "#%%\n"
    }
   },
   "outputs": [],
   "source": [
    "%autoreload 2\n",
    "# test cell\n",
    "try:\n",
    "    import person_class\n",
    "except:\n",
    "    raise ValueError(\"You did not execute your solution cell!\")\n",
    "try:\n",
    "    from person_class import Person\n",
    "except:\n",
    "    raise ValueError(\"The module does not have the necessary class!\")\n",
    "from nose.tools import assert_equal\n",
    "assert 'Person' in dir(), 'Class Person does not exist!'\n",
    "p = Person('John Doe', 'Manager', '201414202014' )\n",
    "from unittest.mock import patch\n",
    "with patch('__main__.print') as mock_print:\n",
    "    s = str(p)\n",
    "mock_print.assert_not_called()\n",
    "assert_equal(str(p), 'John Doe\\tManager\\t201414202014')\n",
    "p = Person('Jane Doe', 'Supervisor', '201212202012', 'Gibraltargatan')\n",
    "assert_equal(str(p), 'Jane Doe\\tSupervisor\\t201212202012\\tGibraltargatan')\n",
    "p = Person('Jane Doe', 'Supervisor', '201212202012', 'Gibraltargatan', '123456')\n",
    "assert_equal(str(p), 'Jane Doe\\tSupervisor\\t201212202012\\tGibraltargatan\\t123456')\n",
    "p = Person('Jane Doe', 'Supervisor', '201212202012', '123456')\n",
    "assert_equal(str(p), 'Jane Doe\\tSupervisor\\t201212202012\\t123456')\n",
    "from utils import validate_python_code\n",
    "validate_python_code(\"person_class.py\")\n",
    "print('tests passed', u'\\u2713')"
   ]
  },
  {
   "cell_type": "markdown",
   "metadata": {
    "deletable": false,
    "editable": false,
    "nbgrader": {
     "cell_type": "markdown",
     "checksum": "d9639cfd02ec4ee8adc5d89e6a8dde15",
     "grade": false,
     "grade_id": "problem-1-7",
     "locked": true,
     "schema_version": 3,
     "solution": false,
     "task": false
    }
   },
   "source": [
    "### Problem 1.6\n",
    "\n",
    "Create a Python class named `Student` that inherits from the class `Person` created in the previous problem.\n",
    "The class `Student` should override the initialization method of the class `Person` and set the attribute `role` always with the value `\"Student\"`, removing the need to pass it as a parameter to the method.\n",
    "The initialization method should also include the parameter `program` as a mandatory one, before the address.\n",
    "\n",
    "Finally, the class `Student` should also have a method `.print()` that uses the return of the method `.__repr__()` of the *parent* class and complements it with the program, printing out the result.\n",
    "\n",
    "*Since the class in problem this problem inherits from the class created in the previous problem, note that you need to import the `Person` class from the module created in the previous problem in the solution cell of this one.*"
   ]
  },
  {
   "cell_type": "markdown",
   "metadata": {
    "deletable": false,
    "editable": false,
    "nbgrader": {
     "cell_type": "markdown",
     "checksum": "94b8216397df9b574459ca0178c90b72",
     "grade": false,
     "grade_id": "pseudo-1-7",
     "locked": true,
     "schema_version": 3,
     "solution": false,
     "task": false
    }
   },
   "source": [
    "```\n",
    "# write here your pseudocode (not graded)\n",
    "\n",
    "# * pseudocode is necessary when asking for help during the lab\n",
    "```"
   ]
  },
  {
   "cell_type": "code",
   "execution_count": null,
   "metadata": {
    "deletable": false,
    "nbgrader": {
     "cell_type": "code",
     "checksum": "3c38caa342e2539ac63f139118d092b6",
     "grade": false,
     "grade_id": "answer-1-7",
     "locked": false,
     "schema_version": 3,
     "solution": true,
     "task": false
    },
    "pycharm": {
     "name": "#%%\n"
    }
   },
   "outputs": [],
   "source": [
    "%%writefile student_class.py\n",
    "# solution cell\n",
    "\n",
    "from person import person\n",
    "\n",
    "class Student:\n",
    "    def __init__(self, role):\n",
    "    self.role = role\n",
    "\n",
    "\n"
   ]
  },
  {
   "cell_type": "code",
   "execution_count": null,
   "metadata": {
    "deletable": false,
    "editable": false,
    "nbgrader": {
     "cell_type": "code",
     "checksum": "07251b6be3392923acac00480a717eb7",
     "grade": false,
     "grade_id": "debug-1-7",
     "locked": true,
     "schema_version": 3,
     "solution": false,
     "task": false
    }
   },
   "outputs": [],
   "source": [
    "%autoreload 2\n",
    "# uncomment the line(s) below to debug\n",
    "from student_class import Student\n",
    "\n",
    "s = Student('John Doe', '201414202014', 'TIEPL')\n",
    "print('Student:')\n",
    "s.print()\n",
    "print('Execution finished', u'\\u2713')"
   ]
  },
  {
   "cell_type": "code",
   "execution_count": null,
   "metadata": {
    "deletable": false,
    "editable": false,
    "nbgrader": {
     "cell_type": "code",
     "checksum": "993a31a3c805a526651134cb08e7f2d7",
     "grade": true,
     "grade_id": "tests-1-7",
     "locked": true,
     "points": 1,
     "schema_version": 3,
     "solution": false,
     "task": false
    },
    "pycharm": {
     "name": "#%%\n"
    }
   },
   "outputs": [],
   "source": [
    "%autoreload 2\n",
    "# test cell\n",
    "try:\n",
    "    import student_class\n",
    "except:\n",
    "    raise ValueError(\"You did not execute your solution cell!\")\n",
    "try:\n",
    "    from student_class import Student\n",
    "except:\n",
    "    raise ValueError(\"The module does not have the necessary class!\")\n",
    "from nose.tools import assert_equal\n",
    "assert 'Student' in dir(), 'Class Student does not exist!'\n",
    "assert 'print' in dir(Student), 'Class Student does not have a method `print`.'\n",
    "s = Student('John Doe', '201414202014', 'TIEPL')\n",
    "assert isinstance(s, Person), 'The class Student is not a child class of the class Person'\n",
    "from unittest.mock import patch\n",
    "with patch('student_class.print') as mock_print:\n",
    "    s.print()\n",
    "mock_print.assert_called_once_with('John Doe\\tStudent\\t201414202014\\tTIEPL')\n",
    "s = Student('John Doe', '201414202014', 'TIEPL', 'Gibraltargatan')\n",
    "from unittest.mock import patch\n",
    "with patch('student_class.print') as mock_print:\n",
    "    s.print()\n",
    "mock_print.assert_called_once_with('John Doe\\tStudent\\t201414202014\\tGibraltargatan\\tTIEPL')\n",
    "assert hasattr(s, 'program'), 'The object does not seem to have the property `program`'\n",
    "from utils import validate_python_code\n",
    "validate_python_code(\"student_class.py\")\n",
    "print('tests passed', u'\\u2713')"
   ]
  },
  {
   "cell_type": "markdown",
   "metadata": {
    "deletable": false,
    "editable": false,
    "nbgrader": {
     "cell_type": "markdown",
     "checksum": "be55c48bc2946a52b59b3a3ed953771d",
     "grade": false,
     "grade_id": "cell-title-level-2",
     "locked": true,
     "schema_version": 3,
     "solution": false,
     "task": false
    }
   },
   "source": [
    "---\n",
    "## Level 2\n",
    "\n",
    "Problems in level 2 should build upon the content of the lecture and the content of previous lectures.\n",
    "Therefore, the problems can be solved based solely on the lecture notes available for the course up to the lecture the assignment is about."
   ]
  },
  {
   "cell_type": "markdown",
   "metadata": {
    "deletable": false,
    "editable": false,
    "nbgrader": {
     "cell_type": "markdown",
     "checksum": "ab788c1e7508b5812c404734689a4be7",
     "grade": false,
     "grade_id": "cell-problem-2-1",
     "locked": true,
     "schema_version": 3,
     "solution": false,
     "task": false
    }
   },
   "source": [
    "### Problem 2.1\n",
    "\n",
    "Create a Python function called `lottery_numbers` that receives three parameters:\n",
    "- how many numbers should be selected.\n",
    "- the upper bound for the number generation;\n",
    "- the lower bound for the number generation;\n",
    "\n",
    "The function should generate a list of integer numbers with the correct number of elements, each element between the informed lower and upper bounds.\n",
    "Remember that numbers in the list must not repeat.\n",
    "\n",
    "The function should also validate the input. If any of the parameters is out of the range (i.e., lower bound should be $\\geq 0$, upper bound should be $> 0$ and number should be $> 0$) the function should return `None`.\n"
   ]
  },
  {
   "cell_type": "markdown",
   "metadata": {
    "deletable": false,
    "editable": false,
    "nbgrader": {
     "cell_type": "markdown",
     "checksum": "15570b6393c831549d8fc7dd9cf1b617",
     "grade": false,
     "grade_id": "cell-pseudocode-2-1",
     "locked": true,
     "schema_version": 3,
     "solution": false,
     "task": false
    }
   },
   "source": [
    "```\n",
    "# write here your pseudocode (not graded)\n",
    "\n",
    "# * pseudocode is necessary when asking for help during the lab\n",
    "```"
   ]
  },
  {
   "cell_type": "code",
   "execution_count": null,
   "metadata": {
    "deletable": false,
    "nbgrader": {
     "cell_type": "code",
     "checksum": "b34fbbbede7e1a1c03ff4e7e32af4336",
     "grade": false,
     "grade_id": "cell-answer-2-1",
     "locked": false,
     "schema_version": 3,
     "solution": true,
     "task": false
    }
   },
   "outputs": [],
   "source": [
    "%%writefile lottery_numbers_solution.py\n",
    "# solution cell\n",
    "# YOUR CODE HERE\n",
    "raise NotImplementedError()"
   ]
  },
  {
   "cell_type": "code",
   "execution_count": null,
   "metadata": {
    "deletable": false,
    "editable": false,
    "nbgrader": {
     "cell_type": "code",
     "checksum": "9ac9e7f79814fd0c95a20128a8c069b0",
     "grade": false,
     "grade_id": "debug-2-1",
     "locked": true,
     "schema_version": 3,
     "solution": false,
     "task": false
    }
   },
   "outputs": [],
   "source": [
    "%autoreload 2\n",
    "# uncomment the line(s) below to debug\n",
    "# from lottery_numbers_solution import lottery_numbers\n",
    "# \n",
    "# result = lottery_numbers(5, 50, 10)\n",
    "# print(f'Generating 5 numbers between 10 and 50 is {result}')\n",
    "# print('Execution finished', u'\\u2713')"
   ]
  },
  {
   "cell_type": "code",
   "execution_count": null,
   "metadata": {
    "deletable": false,
    "editable": false,
    "nbgrader": {
     "cell_type": "code",
     "checksum": "1f5f843fd4ba6953cc70513f892f2b42",
     "grade": true,
     "grade_id": "cell-test-2-1",
     "locked": true,
     "points": 1,
     "schema_version": 3,
     "solution": false,
     "task": false
    }
   },
   "outputs": [],
   "source": [
    "# test cell\n",
    "%autoreload 2\n",
    "try:\n",
    "    import lottery_numbers_solution\n",
    "except:\n",
    "    raise ValueError(\"You did not execute your solution cell!\")\n",
    "try:\n",
    "    from lottery_numbers_solution import lottery_numbers\n",
    "except:\n",
    "    raise ValueError(\"The module does not have the necessary function!\")\n",
    "from nose.tools import assert_equal\n",
    "result = lottery_numbers(5, 50, 10)\n",
    "assert len(result) == len(set(result)), 'There are repeated elements in the list'\n",
    "assert min(result) >= 10\n",
    "assert max(result) <= 50\n",
    "assert len(result) == 5\n",
    "result = lottery_numbers(30, 100, 0)\n",
    "assert len(result) == len(set(result)), 'There are repeated elements in the list'\n",
    "assert min(result) >= 0\n",
    "assert max(result) <= 100\n",
    "assert len(result) == 30\n",
    "assert_equal(lottery_numbers(30, 100, -1), None)\n",
    "assert_equal(lottery_numbers(30, 0,0), None)\n",
    "from utils import validate_python_code\n",
    "validate_python_code(\"lottery_numbers_solution.py\")\n",
    "print('tests passed', u'\\u2713')"
   ]
  },
  {
   "cell_type": "markdown",
   "metadata": {
    "deletable": false,
    "editable": false,
    "nbgrader": {
     "cell_type": "markdown",
     "checksum": "94c0b0ea156aab79e618480db25c1c18",
     "grade": false,
     "grade_id": "problem-2-2",
     "locked": true,
     "schema_version": 3,
     "solution": false,
     "task": false
    }
   },
   "source": [
    "### Problem 2.2\n",
    "\n",
    "Create a Python class called `CourseRegister`.\n",
    "In the initialization method, the class should receive the `name` and `code` of the course, and save them as attributes.\n",
    "\n",
    "The class should also have a method called `.register()` that receives an object of the class `Student` and adds it to the list of enrolled students.\n",
    "Note that this list should be initialized as an empty list in the initialization method, and called `list_registered_students`.\n",
    "Note also that the objects should be added to the list only if they are an object of the `Student` class.\n",
    "Finally, the method should not add the same student twice in the list.\n",
    "\n",
    "The class should also have a method called `.remove()` that receives and object of the class `Student`, representing a student that is already enrolled, and removes it from the list of enrolled students.\n",
    "Note that, before trying to remove the student from the list, the method should check whether the student is present in the list.\n",
    "\n",
    "*Note that you should run your solutions to problems of the previous level for the test cell to work properly.*"
   ]
  },
  {
   "cell_type": "markdown",
   "metadata": {
    "deletable": false,
    "editable": false,
    "nbgrader": {
     "cell_type": "markdown",
     "checksum": "660175c1275917657fee64f7020c0e5f",
     "grade": false,
     "grade_id": "pseudo-2-2",
     "locked": true,
     "schema_version": 3,
     "solution": false,
     "task": false
    }
   },
   "source": [
    "```\n",
    "# write here your pseudocode (not graded)\n",
    "\n",
    "# * pseudocode is necessary when asking for help during the lab\n",
    "```"
   ]
  },
  {
   "cell_type": "code",
   "execution_count": null,
   "metadata": {
    "deletable": false,
    "nbgrader": {
     "cell_type": "code",
     "checksum": "a741e3143838ca0cb040a5580028e3f0",
     "grade": false,
     "grade_id": "answer-2-2",
     "locked": false,
     "schema_version": 3,
     "solution": true,
     "task": false
    },
    "pycharm": {
     "name": "#%%\n"
    }
   },
   "outputs": [],
   "source": [
    "%%writefile course_register_class.py\n",
    "# solution cell\n",
    "# YOUR CODE HERE\n",
    "raise NotImplementedError()"
   ]
  },
  {
   "cell_type": "code",
   "execution_count": null,
   "metadata": {
    "deletable": false,
    "editable": false,
    "nbgrader": {
     "cell_type": "code",
     "checksum": "f439dd7b13911302e66e89a81b508c91",
     "grade": false,
     "grade_id": "debug-2-2",
     "locked": true,
     "schema_version": 3,
     "solution": false,
     "task": false
    }
   },
   "outputs": [],
   "source": [
    "%autoreload 2\n",
    "# uncomment the line(s) below to debug\n",
    "# from course_register_class import CourseRegister\n",
    "# c = CourseRegister('Applied object-oriented programming', 'EEN060')\n",
    "# print(c.list_registered_students)\n",
    "# s1 = Student('John Doe', '201414202014', 'TIEPL')\n",
    "# c.register(s1)\n",
    "# print(c.list_registered_students)\n",
    "# p1 = Person('John Doe', '201414202014', 'Manager')\n",
    "# c.register(p1)\n",
    "# print(c.list_registered_students)\n",
    "# s2 = Student('Jane Doe', '201212202012', 'TIEPL', 'Gibraltargatan')\n",
    "# c.register(s2)\n",
    "# print(c.list_registered_students)\n",
    "# c.remove(s1)\n",
    "# print(c.list_registered_students)\n",
    "# print('Execution finished', u'\\u2713')"
   ]
  },
  {
   "cell_type": "code",
   "execution_count": null,
   "metadata": {
    "deletable": false,
    "editable": false,
    "nbgrader": {
     "cell_type": "code",
     "checksum": "861a639f4bac4cfdbc38f18302ab0616",
     "grade": true,
     "grade_id": "tests-2-2",
     "locked": true,
     "points": 1,
     "schema_version": 3,
     "solution": false,
     "task": false
    },
    "pycharm": {
     "name": "#%%\n"
    }
   },
   "outputs": [],
   "source": [
    "%autoreload 2\n",
    "# test cell\n",
    "try:\n",
    "    import course_register_class\n",
    "except:\n",
    "    raise ValueError(\"You did not execute your solution cell!\")\n",
    "try:\n",
    "    from course_register_class import CourseRegister\n",
    "except:\n",
    "    raise ValueError(\"The module does not have the necessary function!\")\n",
    "from nose.tools import assert_equal\n",
    "assert 'CourseRegister' in dir(), 'Class CourseRegister does not exist!'\n",
    "assert 'register' in dir(CourseRegister), 'Class CourseRegister does not have method `register`'\n",
    "assert 'remove' in dir(CourseRegister), 'Class CourseRegister does not have method `remove`'\n",
    "c = CourseRegister('Applied object-oriented programming', 'EEN060')\n",
    "assert hasattr(c, 'name'), 'Class CourseRegister does not have property `name`.'\n",
    "assert hasattr(c, 'code'), 'Class CourseRegister does not have property `code`.'\n",
    "assert hasattr(c, 'list_registered_students'), 'Class CourseRegister does not have property `list_registered_students`.'\n",
    "assert isinstance(c.list_registered_students, list), 'The attribute list_enrolled_students is not a list'\n",
    "from student_class import Student\n",
    "s1 = Student('John Doe', '201414202014', 'TIEPL')\n",
    "c.register(s1)\n",
    "assert_equal(len(c.list_registered_students), 1)\n",
    "p1 = Person('John Doe', '201414202014', 'Manager')\n",
    "c.register(p1)\n",
    "assert_equal(len(c.list_registered_students), 1)\n",
    "s2 = Student('Jane Doe', '201212202012', 'TIEPL', 'Gibraltargatan')\n",
    "c.register(s2)\n",
    "assert_equal(len(c.list_registered_students), 2)\n",
    "c.remove(s1)\n",
    "assert_equal(len(c.list_registered_students), 1)\n",
    "c.remove(s1)\n",
    "assert_equal(len(c.list_registered_students), 1)\n",
    "c.remove(p1)\n",
    "assert_equal(len(c.list_registered_students), 1)\n",
    "c.register(s2)\n",
    "assert_equal(len(c.list_registered_students), 1)\n",
    "from utils import validate_python_code\n",
    "validate_python_code(\"course_register_class.py\")\n",
    "print('tests passed', u'\\u2713')"
   ]
  },
  {
   "cell_type": "markdown",
   "metadata": {
    "deletable": false,
    "editable": false,
    "nbgrader": {
     "cell_type": "markdown",
     "checksum": "51830a712fd3eb2e30f745de9efc43f5",
     "grade": false,
     "grade_id": "problem-2-3",
     "locked": true,
     "schema_version": 3,
     "solution": false,
     "task": false
    }
   },
   "source": [
    "### Problem 2.3\n",
    "\n",
    "Create a Python dataclass named `PersonAge`.\n",
    "The attributes of this class are:\n",
    "1. name (Type: sting)\n",
    "2. job (Type: sting)\n",
    "3. birthdate (Type: date)\n",
    "4. age (Type: int, not an argument during initialization)\n",
    "\n",
    "The attributes `name`, `job` and `birthdate` are mandatory during initialization.\n",
    "Then, you need to create a method `.compute_age()` that uses the `birthdate` to compute how old the person is, saves it to the `age` property, and returns the `age` value.\n",
    "Remember to import `dataclass` and `field` from `dataclasses` module.\n",
    "Link to read more about data class: https://docs.python.org/3.9/library/dataclasses.html"
   ]
  },
  {
   "cell_type": "markdown",
   "metadata": {
    "deletable": false,
    "editable": false,
    "nbgrader": {
     "cell_type": "markdown",
     "checksum": "850a8bf50b15ffac79608da191720af2",
     "grade": false,
     "grade_id": "pseudo-2-3",
     "locked": true,
     "schema_version": 3,
     "solution": false,
     "task": false
    }
   },
   "source": [
    "```\n",
    "# write here your pseudocode (not graded)\n",
    "\n",
    "# * pseudocode is necessary when asking for help during the lab\n",
    "```"
   ]
  },
  {
   "cell_type": "code",
   "execution_count": null,
   "metadata": {
    "deletable": false,
    "nbgrader": {
     "cell_type": "code",
     "checksum": "1e3577ba0177c51df36df6273ce56522",
     "grade": false,
     "grade_id": "solution-2-3",
     "locked": false,
     "schema_version": 3,
     "solution": true,
     "task": false
    },
    "pycharm": {
     "name": "#%%\n"
    }
   },
   "outputs": [],
   "source": [
    "%%writefile person_age_class.py\n",
    "# solution cell\n",
    "# YOUR CODE HERE\n",
    "raise NotImplementedError()"
   ]
  },
  {
   "cell_type": "code",
   "execution_count": null,
   "metadata": {
    "deletable": false,
    "editable": false,
    "nbgrader": {
     "cell_type": "code",
     "checksum": "3a69fdd5aa8124a968c040754d20dbe6",
     "grade": false,
     "grade_id": "debug-2-3",
     "locked": true,
     "schema_version": 3,
     "solution": false,
     "task": false
    }
   },
   "outputs": [],
   "source": [
    "%autoreload 2\n",
    "# uncomment the line(s) below to debug\n",
    "# from datetime import date\n",
    "# from person_age_class import PersonAge\n",
    "# person1 = PersonAge('John Doe', 'Manager', date(1990, 11, 15))\n",
    "# person2 = PersonAge('Jane Doe', 'Manager', date(1980, 11, 15))\n",
    "# print(f\"The age of {person1.name} is {person1.compute_age()}\")\n",
    "# print(f\"The age of {person2.name} is {person2.compute_age()}\")\n",
    "# print('Execution finished', u'\\u2713')"
   ]
  },
  {
   "cell_type": "code",
   "execution_count": null,
   "metadata": {
    "deletable": false,
    "editable": false,
    "nbgrader": {
     "cell_type": "code",
     "checksum": "a4ccab11098787a46ca101f169daafad",
     "grade": true,
     "grade_id": "tests-2-3",
     "locked": true,
     "points": 1,
     "schema_version": 3,
     "solution": false,
     "task": false
    },
    "pycharm": {
     "name": "#%%\n"
    }
   },
   "outputs": [],
   "source": [
    "%autoreload 2\n",
    "# test cell\n",
    "try:\n",
    "    import person_age_class\n",
    "except:\n",
    "    raise ValueError(\"You did not execute your solution cell!\")\n",
    "try:\n",
    "    from person_age_class import PersonAge\n",
    "except:\n",
    "    raise ValueError(\"The module does not have the necessary class!\")\n",
    "import dataclasses\n",
    "assert dataclasses.is_dataclass(PersonAge), \"The class is not a dataclass!\"\n",
    "from datetime import date\n",
    "from nose.tools import assert_equal\n",
    "assert 'PersonAge' in dir(), 'Class PersonAge does not exist!'\n",
    "\n",
    "p = PersonAge('John Doe', 'Manager', date(1990, 11, 15))\n",
    "assert hasattr(p, 'name'), 'Class PersonSorter does not have property `name`.'\n",
    "assert hasattr(p, 'job'), 'Class PersonSorter does not have property `job`.'\n",
    "p.compute_age()\n",
    "assert hasattr(p, 'age'), 'Class PersonSorter does not have property `age`.'\n",
    "assert p.age == 31, f\"The computed age `{p.age}` is incorrect!\"\n",
    "from unittest.mock import patch\n",
    "with patch('__main__.print') as mock_print:\n",
    "    s = str(p)\n",
    "mock_print.assert_not_called()\n",
    "person1 = PersonAge('John Doe', 'Manager', date(1990, 11, 15))\n",
    "person1.compute_age()\n",
    "person2 = PersonAge('Jane Doe', 'Manager', date(1980, 11, 15))\n",
    "person2.compute_age()\n",
    "assert person1.age < person2.age, \"The age computation seems incorrect!\"\n",
    "from utils import validate_python_code\n",
    "validate_python_code(\"person_age_class.py\")\n",
    "print('tests passed', u'\\u2713')"
   ]
  },
  {
   "cell_type": "markdown",
   "metadata": {
    "deletable": false,
    "editable": false,
    "nbgrader": {
     "cell_type": "markdown",
     "checksum": "a58ff3ec37365e28fd3a34f83f65b16d",
     "grade": false,
     "grade_id": "cell-html-title",
     "locked": true,
     "schema_version": 3,
     "solution": false,
     "task": false
    }
   },
   "source": [
    "---\n",
    "## Level 3: Pseudocode/HTML/CSS/JS problems\n",
    "\n",
    "In these problems we are training the design part of the course, which will be used starting from week 6 in the course.\n",
    "\n",
    "If the error messages are not very clear, you can use the online tool: https://onu2.s2.chalmers.se/nu/#textarea\n",
    "\n",
    "Recommended sources:\n",
    "- HTML: https://www.w3schools.com/html/\n",
    "- CSS: https://www.w3schools.com/css/\n",
    "- JavaScript: https://www.w3schools.com/js/\n",
    "\n",
    "For this assignment, we study:\n",
    "- lists: https://www.w3schools.com/html/html_lists.asp\n",
    "- tables: https://www.w3schools.com/html/html_tables.asp\n",
    "\n",
    "Visual Studio Code sometimes does not render HTML/CSS/JS as expected. We recommend testing your solutions here: https://www.w3schools.com/html/tryit.asp?filename=tryhtml_default\n",
    "\n"
   ]
  },
  {
   "cell_type": "markdown",
   "metadata": {
    "deletable": false,
    "editable": false,
    "nbgrader": {
     "cell_type": "markdown",
     "checksum": "1c19dff8dc9ab9dda5a0706108b065e9",
     "grade": false,
     "grade_id": "cell-html-problem",
     "locked": true,
     "schema_version": 3,
     "solution": false,
     "task": false
    }
   },
   "source": [
    "### Problem 3.1\n",
    "\n",
    "Create a Python function called `list_generator` that receives a list of values.\n",
    "The function should create a string that represents the HTML that shows the list of values, each one as an item of an unordered list.\n",
    "\n",
    "The following example shows how the output of the test cell should look like.\n",
    "\n",
    "Code for the test:\n",
    "```\n",
    "list_generator([\n",
    "    'First item',\n",
    "    'Second item',\n",
    "    'Another item',\n",
    "    'Final item'\n",
    "])\n",
    "```\n",
    "\n",
    "Must result in the following result (the border is used just to delimit the output):\n",
    "<html>\n",
    "    <div style=\"border: 1px solid red;\">\n",
    "        <ul>\n",
    "            <li>First item</li>\n",
    "            <li>Second item</li>\n",
    "            <li>Another item</li>\n",
    "            <li>Final item</li>\n",
    "        </ul>\n",
    "    </div>\n",
    "</html>\n",
    "\n",
    "Note that each tag should be in one line, i.e., there should be a line break between every two tags."
   ]
  },
  {
   "cell_type": "code",
   "execution_count": null,
   "metadata": {
    "deletable": false,
    "nbgrader": {
     "cell_type": "code",
     "checksum": "5030e1a2d4e652a4147ac4b67cb8f576",
     "grade": false,
     "grade_id": "cell-html-answer",
     "locked": false,
     "schema_version": 3,
     "solution": true,
     "task": false
    },
    "pycharm": {
     "name": "#%%\n"
    }
   },
   "outputs": [],
   "source": [
    "%%writefile list_generator_solution.py\n",
    "# YOUR CODE HERE\n",
    "raise NotImplementedError()"
   ]
  },
  {
   "cell_type": "code",
   "execution_count": null,
   "metadata": {
    "deletable": false,
    "editable": false,
    "nbgrader": {
     "cell_type": "code",
     "checksum": "35d4f4a78b125feabb352c3a2d044eee",
     "grade": false,
     "grade_id": "debug-3-1",
     "locked": true,
     "schema_version": 3,
     "solution": false,
     "task": false
    }
   },
   "outputs": [],
   "source": [
    "%autoreload 2\n",
    "# uncomment the line(s) below to debug\n",
    "# from list_generator_solution import list_generator\n",
    "# print('HTML code:')\n",
    "# print('You can copy the code below and paste in the W3Schools tryit editor to test it!')\n",
    "# print(list_generator([\n",
    "#     'First item',\n",
    "#     'Second item',\n",
    "#     'Another item',\n",
    "#     'Final item'\n",
    "# ]))\n",
    "# print('Execution finished', u'\\u2713')"
   ]
  },
  {
   "cell_type": "code",
   "execution_count": null,
   "metadata": {
    "deletable": false,
    "editable": false,
    "nbgrader": {
     "cell_type": "code",
     "checksum": "c2c3cdd0cca1323fbb5f3d9c4b54159c",
     "grade": false,
     "grade_id": "html-setup",
     "locked": true,
     "schema_version": 3,
     "solution": false,
     "task": false
    }
   },
   "outputs": [],
   "source": [
    "%autoreload 2\n",
    "# DO NOT REMOVE THIS CODE >>> BEGINNING\n",
    "# this cell assembles the HTML returned by the function that you wrote\n",
    "# and renders it in the \"preview\" window\n",
    "from IPython.core.display import display, HTML\n",
    "from list_generator_solution import list_generator\n",
    "html_header = \"\"\"<!DOCTYPE html>\n",
    "    <html lang=\"en\">\n",
    "        <head>\n",
    "            <title>Page Title</title>\n",
    "        </head>\n",
    "        <body><p style=\"color: red;\">start of your solution &gt;&gt;&gt;&gt;</p><hr/>\n",
    "        \"\"\"\n",
    "html_header_offset = 1  # number of lines in the header\n",
    "html_footer = \"\"\"     <hr/><p style=\"color: red;\">&lt;&lt;&lt;&lt; end of your solution</p></body>\n",
    "</html>\"\"\"\n",
    "\n",
    "html_to_test = html_header + list_generator([\n",
    "    'First item',\n",
    "    'Second item',\n",
    "    'Another item',\n",
    "    'Final item'\n",
    "]) + html_footer\n",
    "display(HTML(html_to_test))\n",
    "\n",
    "# DO NOT REMOVE THIS CODE <<< END"
   ]
  },
  {
   "cell_type": "code",
   "execution_count": null,
   "metadata": {
    "deletable": false,
    "editable": false,
    "nbgrader": {
     "cell_type": "code",
     "checksum": "1c814f22753a5525993bb655af4f7e8f",
     "grade": true,
     "grade_id": "cell-html-test",
     "locked": true,
     "points": 1,
     "schema_version": 3,
     "solution": false,
     "task": false
    }
   },
   "outputs": [],
   "source": [
    "%autoreload 2\n",
    "# test cell\n",
    "from list_generator_solution import list_generator\n",
    "import sys\n",
    "from lorem_text import lorem\n",
    "import requests\n",
    "import random\n",
    "from bs4 import BeautifulSoup\n",
    "from utils import validate_html\n",
    "has_error = False\n",
    "html_header_offset = 1\n",
    "\n",
    "html_header = \"\"\"<!DOCTYPE html>\n",
    "    <html lang=\"en\">\n",
    "        <head>\n",
    "            <title>Page Title</title>\n",
    "        </head>\n",
    "        <body>\n",
    "        \"\"\"\n",
    "html_footer = \"\"\"\n",
    "</html>\"\"\"\n",
    "\n",
    "for i in range(5):\n",
    "\n",
    "    num_items = random.randint(5, 20)\n",
    "\n",
    "    items = []\n",
    "    for i in range(num_items):\n",
    "        items.append(lorem.words(random.randint(3, 20)))\n",
    "\n",
    "    original_html = list_generator(items)\n",
    "\n",
    "    html_to_test = html_header + original_html + html_footer\n",
    "\n",
    "    soup = validate_html(html_to_test)\n",
    "\n",
    "    final_html = ''\n",
    "    for line in original_html.split('\\n'):\n",
    "        if line.strip() != '':\n",
    "            final_html += line + '\\n'\n",
    "\n",
    "    html_to_test = html_header + final_html + html_footer\n",
    "\n",
    "    soup = BeautifulSoup(html_to_test, 'html.parser')\n",
    "\n",
    "    tag_set = set([str(tag.name) for tag in soup.find_all()])\n",
    "    tag_pairs = []\n",
    "    for tag_1 in tag_set:\n",
    "        for tag_2 in tag_set:\n",
    "            if tag_1 != tag_2:\n",
    "                tag_pairs.append((tag_1, tag_2))\n",
    "\n",
    "    for i, line in enumerate(final_html.split('\\n')):\n",
    "        for tag_1, tag_2 in tag_pairs:\n",
    "            if f'<{tag_1}>' in line or f'</{tag_1}>' in line:\n",
    "                assert f'<{tag_2}>' not in line and f'</{tag_2}>' not in line, f'Line {i+1} has two tags in the same line ({tag_1} and {tag_2}).\\nYou must have them in different lines.\\nLine {i+1}:\\t{line}'\n",
    "\n",
    "    tags_ul = soup.find_all('ul')\n",
    "    assert len(tags_ul) == 1, f'The solution must have 3 unordered lists in your HTML. You have {len(tags_ul)} instead.'\n",
    "\n",
    "    tags_li = tags_ul[0].find_all('li')\n",
    "    assert len(tags_li) == num_items, f'The solution must have 14 list items in your HTML. You have {len(tags_li)} instead.'\n",
    "\n",
    "    for idi, item in enumerate(tags_li):\n",
    "        assert item.text == items[idi], f'The text in line {idi} is not the same as intended.'\n",
    "\n",
    "from utils import validate_python_code\n",
    "validate_python_code(\"list_generator_solution.py\")\n",
    "\n",
    "print('tests passed', u'\\u2713')"
   ]
  },
  {
   "cell_type": "markdown",
   "metadata": {
    "deletable": false,
    "editable": false,
    "nbgrader": {
     "cell_type": "markdown",
     "checksum": "257f4e2cb2e7a0cd50da6f3ce4ea3db2",
     "grade": false,
     "grade_id": "problem-3-2",
     "locked": true,
     "schema_version": 3,
     "solution": false,
     "task": false
    }
   },
   "source": [
    "### Problem 3.2\n",
    "\n",
    "Create a Python function called `table_generator` that receives a dictionary.\n",
    "The function should create a string that represents the HTML that shows the dictionary in a table with two columns: key and value.\n",
    "Key and value should be explicitly defined as the heads of the table.\n",
    "\n",
    "The following example shows how the output of the test cell should look like.\n",
    "\n",
    "Code for testing:\n",
    "```\n",
    "table_generator(\n",
    "    {'test key 1': 'test value 1',\n",
    "    'test key 2': 'test value 2',\n",
    "    'test key 3': 'test value 3',\n",
    "    'test key 7': 'test value 7',\n",
    "    'test key 6': 'test value 6',\n",
    "    'test key 5': 'test value 5',\n",
    "    'this_is_a_key': 'This is the value of the dictionary'})\n",
    "```\n",
    "\n",
    "Must result in the following output  (the border is used just to delimit the output):\n",
    "\n",
    "<div style=\"border: 1px solid red;\"><table><thead><tr><th>Key</th><th>Value</th></tr></thead><tbody><tr><td>testkey1</td><td>testvalue1</td></tr><tr><td>testkey2</td><td>testvalue2</td></tr><tr><td>testkey3</td><td>testvalue3</td></tr><tr><td>testkey7</td><td>testvalue7</td></tr><tr><td>testkey6</td><td>testvalue6</td></tr><tr><td>testkey5</td><td>testvalue5</td></tr><tr><td>this_is_a_key</td><td>Thisisthevalueofthedictionary</td></tr></tbody></table></div>\n"
   ]
  },
  {
   "cell_type": "code",
   "execution_count": null,
   "metadata": {
    "deletable": false,
    "nbgrader": {
     "cell_type": "code",
     "checksum": "8b57884da488c7761051d761b9315ad6",
     "grade": false,
     "grade_id": "answer-3-2",
     "locked": false,
     "schema_version": 3,
     "solution": true,
     "task": false
    },
    "pycharm": {
     "name": "#%%\n"
    }
   },
   "outputs": [],
   "source": [
    "%%writefile table_generator_solution.py\n",
    "# solution cell\n",
    "# YOUR CODE HERE\n",
    "raise NotImplementedError()"
   ]
  },
  {
   "cell_type": "code",
   "execution_count": null,
   "metadata": {
    "deletable": false,
    "editable": false,
    "nbgrader": {
     "cell_type": "code",
     "checksum": "2779d0398add2e736c12934f9e421e83",
     "grade": false,
     "grade_id": "debug-3-2",
     "locked": true,
     "schema_version": 3,
     "solution": false,
     "task": false
    }
   },
   "outputs": [],
   "source": [
    "%autoreload 2\n",
    "# uncomment the line(s) below to debug\n",
    "# from table_generator_solution import table_generator\n",
    "# print('HTML code:')\n",
    "# s = table_generator(\n",
    "#     {'test key 1': 'test value 1',\n",
    "#     'test key 2': 'test value 2',\n",
    "#     'test key 3': 'test value 3',\n",
    "#     'test key 7': 'test value 7',\n",
    "#     'test key 6': 'test value 6',\n",
    "#     'test key 5': 'test value 5',\n",
    "#     'this_is_a_key': 'This is the value of the dictionary'})\n",
    "# print(s)\n",
    "# print('Execution finished', u'\\u2713')"
   ]
  },
  {
   "cell_type": "code",
   "execution_count": null,
   "metadata": {
    "pycharm": {
     "name": "#%%\n"
    }
   },
   "outputs": [],
   "source": [
    "%autoreload 2\n",
    "# DO NOT REMOVE THIS CODE >>> BEGINNING\n",
    "# this cell assembles the HTML returned by the function that you wrote\n",
    "# and renders it in the \"preview\" window\n",
    "\n",
    "#from IPython import display\n",
    "from table_generator_solution import table_generator\n",
    "from IPython.core.display import display, HTML\n",
    "html_header = \"\"\"<!DOCTYPE html>\n",
    "    <html lang=\"en\">\n",
    "        <head>\n",
    "            <title>Page Title</title>\n",
    "        </head>\n",
    "        <body><p style=\"color: red;\">start of your solution &gt;&gt;&gt;&gt;</p><hr/>\n",
    "        \"\"\"\n",
    "html_footer = \"\"\"     <hr/><p style=\"color: red;\">&lt;&lt;&lt;&lt; end of your solution</p></body>\n",
    "</html>\"\"\"\n",
    "html = table_generator(\n",
    "    {'test key 1': 'test value 1',\n",
    "    'test key 2': 'test value 2',\n",
    "    'test key 3': 'test value 3',\n",
    "    'test key 7': 'test value 7',\n",
    "    'test key 6': 'test value 6',\n",
    "    'test key 5': 'test value 5',\n",
    "    'this_is_a_key': 'This is the value of the dictionary'})\n",
    "html_to_test = html_header + html + html_footer\n",
    "display(HTML(html_to_test))\n",
    "\n",
    "# DO NOT REMOVE THIS CODE <<< END"
   ]
  },
  {
   "cell_type": "code",
   "execution_count": null,
   "metadata": {
    "pycharm": {
     "name": "#%%\n"
    }
   },
   "outputs": [],
   "source": [
    "%autoreload 2\n",
    "# test cell\n",
    "import sys\n",
    "import requests\n",
    "import random\n",
    "from lorem_text import lorem\n",
    "from bs4 import BeautifulSoup\n",
    "from table_generator_solution import table_generator\n",
    "has_error = False\n",
    "html_header_offset = 1\n",
    "\n",
    "html_header = \"\"\"<!DOCTYPE html>\n",
    "    <html lang=\"en\">\n",
    "        <head>\n",
    "            <title>Page Title</title>\n",
    "        </head>\n",
    "        <body><p style=\"color: red;\">start of your solution &gt;&gt;&gt;&gt;</p><hr/>\n",
    "        \"\"\"\n",
    "html_footer = \"\"\"     <hr/><p style=\"color: red;\">&lt;&lt;&lt;&lt; end of your solution</p></body>\n",
    "</html>\"\"\"\n",
    "\n",
    "for i in range(5):\n",
    "\n",
    "    input_dict = dict()\n",
    "    num_keys = random.randint(5, 10)\n",
    "    for i in range(num_keys):\n",
    "        input_dict[lorem.words(random.randint(1, 3))] = lorem.words(random.randint(5, 10))\n",
    "\n",
    "    original_html = table_generator(input_dict)\n",
    "\n",
    "    html_to_test = html_header + original_html + html_footer\n",
    "#     display(HTML(html_to_test))\n",
    "    #print(html_to_test.count('\\n'))\n",
    "    assert html_to_test.count('\\n') > 6, 'Your HTML seems to not have the sufficient lines.'\n",
    "\n",
    "    soup = validate_html(html_to_test)\n",
    "\n",
    "    final_html = ''\n",
    "    for line in original_html.split('\\n'):\n",
    "        if line.strip() != '':\n",
    "            final_html += line + '\\n'\n",
    "    html_to_test = html_header + final_html + html_footer\n",
    "\n",
    "    soup = BeautifulSoup(html_to_test, 'html.parser')\n",
    "\n",
    "    tag_set = set([str(tag.name) for tag in soup.find_all()])\n",
    "    tag_pairs = []\n",
    "    for tag_1 in tag_set:\n",
    "        for tag_2 in tag_set:\n",
    "            if tag_1 != tag_2:\n",
    "                tag_pairs.append((tag_1, tag_2))\n",
    "\n",
    "    for i, line in enumerate(final_html.split('\\n')):\n",
    "        for tag_1, tag_2 in tag_pairs:\n",
    "            if f'<{tag_1}>' in line or f'</{tag_1}>' in line:\n",
    "                assert f'<{tag_2}>' not in line and f'</{tag_2}>' not in line, f'Line {i+1} has two tags in the same line ({tag_1} and {tag_2}).\\nYou must have them in different lines.\\nLine {i+1}:\\t{line}'\n",
    "\n",
    "    tags_table = soup.find_all('table')\n",
    "    assert len(tags_table) == 1, f'The HTML seems needs to have 1 table. Now it has {len(tags_table)} table(s).'\n",
    "\n",
    "    tags_thead = tags_table[0].find_all('thead')\n",
    "    assert len(tags_thead) == 1, 'The needs to have one `thead` tag.'\n",
    "\n",
    "    tags_tr = tags_thead[0].find_all('tr')\n",
    "    assert len(tags_tr) == 1, 'The table head needs one row.'\n",
    "\n",
    "    tags_th = tags_tr[0].find_all('th')\n",
    "    assert len(tags_th) == 2, f'The table must have 2 header columns. Now it has {len(tags_th)} column(s).'\n",
    "\n",
    "    tags_tbody = tags_table[0].find_all('tbody')\n",
    "    assert len(tags_tbody) == 1, 'The needs to have one `tags_tbody` tag.'\n",
    "\n",
    "    tags_tr = tags_tbody[0].find_all('tr')\n",
    "    assert len(tags_tr) == num_keys, f'The table must have {num_keys} rows. Now it has {len(tags_tr)} row(s).'\n",
    "\n",
    "    for tag_tr in tags_tr:\n",
    "        tags_td = tag_tr.find_all('td')\n",
    "        assert len(tags_td) == 2, f'The table must have 2 columns. Now it has {len(tags_th)} column(s).\\nRow with problems: \\t{tag_tr}'\n",
    "\n",
    "from utils import validate_python_code\n",
    "validate_python_code(\"table_generator_solution.py\")\n",
    "\n",
    "print('tests passed', u'\\u2713')"
   ]
  }
 ],
 "metadata": {
  "kernelspec": {
   "display_name": "Python 3 (ipykernel)",
   "language": "python",
   "name": "python3"
  },
  "language_info": {
   "codemirror_mode": {
    "name": "ipython",
    "version": 3
   },
   "file_extension": ".py",
   "mimetype": "text/x-python",
   "name": "python",
   "nbconvert_exporter": "python",
   "pygments_lexer": "ipython3",
   "version": "3.9.7"
  }
 },
 "nbformat": 4,
 "nbformat_minor": 4
}
